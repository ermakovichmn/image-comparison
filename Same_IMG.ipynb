{
  "cells": [
    {
      "cell_type": "code",
      "source": [
        "pip install asyncio"
      ],
      "metadata": {
        "id": "tLHtkvkeWah5"
      },
      "execution_count": null,
      "outputs": []
    },
    {
      "cell_type": "code",
      "source": [
        "pip install nest_asyncio"
      ],
      "metadata": {
        "id": "6-Iu7jRFYbA_"
      },
      "execution_count": null,
      "outputs": []
    },
    {
      "cell_type": "code",
      "execution_count": 7,
      "metadata": {
        "id": "x98T4cGr5mEc"
      },
      "outputs": [],
      "source": [
        "import cv2\n",
        "import numpy as np\n",
        "from PIL import Image\n",
        "import requests\n",
        "from io import BytesIO\n",
        "import matplotlib\n",
        "#matplotlib.use('TKAgg')\n",
        "import matplotlib.pyplot as plt\n",
        "import pandas as pd\n",
        "from itertools import combinations\n",
        "from tqdm import tqdm\n",
        "from itertools import product\n",
        "\n",
        "import warnings\n",
        "warnings.simplefilter('ignore')"
      ]
    },
    {
      "cell_type": "code",
      "execution_count": 4,
      "metadata": {
        "id": "1ZPxav1MSSrr"
      },
      "outputs": [],
      "source": [
        "# import asyncio\n",
        "# import nest_asyncio"
      ]
    },
    {
      "cell_type": "code",
      "execution_count": 5,
      "metadata": {
        "id": "IAXusWvR4RMY"
      },
      "outputs": [],
      "source": [
        "def aHash(img):\n",
        "    # Среднее хеш-алгоритм\n",
        "    # Увеличить до 8 * 8\n",
        "    img = cv2.resize(img, (8, 8))\n",
        "    # Преобразовать в оттенки серого\n",
        "    gray = cv2.cvtColor(img, cv2.COLOR_BGR2GRAY)\n",
        "    # s это пиксель и начальное значение 0, hash_str это начальное значение хеш-значения ''\n",
        "    s = 0\n",
        "    hash_str = ''\n",
        "    # Перебирать накопленную сумму пикселей\n",
        "    for i in range(8):\n",
        "        for j in range(8):\n",
        "            s = s+gray[i, j]\n",
        "    # Найти средний серый\n",
        "    avg = s/64\n",
        "    # Уровень серого больше среднего значения 1, а значение 0 равно 0.\n",
        "    for i in range(8):\n",
        "        for j in range(8):\n",
        "            if gray[i, j] > avg:\n",
        "                hash_str = hash_str+'1'\n",
        "            else:\n",
        "                hash_str = hash_str+'0'\n",
        "    return hash_str\n",
        "\n",
        "def dHash(img):\n",
        "    # Разностный хэш-алгоритм\n",
        "    # Увеличение 8 * 8\n",
        "    img = cv2.resize(img, (9, 8))\n",
        "    # Преобразование изображения в градациях серого\n",
        "    gray = cv2.cvtColor(img, cv2.COLOR_BGR2GRAY)\n",
        "    hash_str = ''\n",
        "    # Первый пиксель каждой строки больше, чем следующий пиксель равен 1, а противоположный равен 0, генерируя хэш\n",
        "    for i in range(8):\n",
        "        for j in range(8):\n",
        "            if gray[i, j] > gray[i, j+1]:\n",
        "                hash_str = hash_str+'1'\n",
        "            else:\n",
        "                hash_str = hash_str+'0'\n",
        "    return hash_str\n",
        "\n",
        "def pHash(img):\n",
        "     # Воспринятый алгоритм хеширования\n",
        "     # Масштаб 32 * 32\n",
        "    img = cv2.resize(img, (32, 32))   # , interpolation=cv2.INTER_CUBIC\n",
        "\n",
        "         # Преобразовать в оттенки серого\n",
        "    gray = cv2.cvtColor(img, cv2.COLOR_BGR2GRAY)\n",
        "         # Преобразовать изображение в градациях серого в тип с плавающей точкой, а затем выполнить преобразование dct\n",
        "    dct = cv2.dct(np.float32(gray))\n",
        "         # opencv маска операция\n",
        "    dct_roi = dct[0:8, 0:8]\n",
        "\n",
        "    hash = []\n",
        "    avreage = np.mean(dct_roi)\n",
        "    for i in range(dct_roi.shape[0]):\n",
        "        for j in range(dct_roi.shape[1]):\n",
        "            if dct_roi[i, j] > avreage:\n",
        "                hash.append(1)\n",
        "            else:\n",
        "                hash.append(0)\n",
        "    return hash\n",
        "\n",
        "def calculate(image1, image2):\n",
        "         #Алгоритм гистограммы в градациях серого\n",
        "         # Рассчитать сходство одноканальной гистограммы\n",
        "    hist1 = cv2.calcHist([image1], [0], None, [256], [0.0, 255.0])\n",
        "    hist2 = cv2.calcHist([image2], [0], None, [256], [0.0, 255.0])\n",
        "         # Рассчитать совпадение гистограммы\n",
        "    degree = 0\n",
        "    for i in range(len(hist1)):\n",
        "        if hist1[i] != hist2[i]:\n",
        "            degree = degree + \\\n",
        "                (1 - abs(hist1[i] - hist2[i]) / max(hist1[i], hist2[i]))\n",
        "        else:\n",
        "            degree = degree + 1\n",
        "    degree = degree / len(hist1)\n",
        "    return degree\n",
        "\n",
        "def classify_hist_with_split(image1, image2, size=(256, 256)):\n",
        "         # Сходство гистограммы RGB каждого канала\n",
        "         # После изменения размера изображения разделите его на три канала RGB, а затем рассчитайте значение сходства для каждого канала.\n",
        "    image1 = cv2.resize(image1, size)\n",
        "    image2 = cv2.resize(image2, size)\n",
        "    sub_image1 = cv2.split(image1)\n",
        "    sub_image2 = cv2.split(image2)\n",
        "    sub_data = 0\n",
        "    for im1, im2 in zip(sub_image1, sub_image2):\n",
        "        sub_data += calculate(im1, im2)\n",
        "    sub_data = sub_data / 3\n",
        "    return sub_data\n",
        "\n",
        "def cmpHash(hash1, hash2):\n",
        "         # Сравнение хеш-значений\n",
        "         # Комбинация 1 и 0 в алгоритме - это хэш отпечатка пальца изображения. Порядок не фиксированный, но сравнение должно быть в том же порядке.\n",
        "         # Сравните отпечатки пальцев двух изображений, вычислите расстояние Хемминга, то есть сколько двух 64-битных хеш-значений отличаются, чем меньше количество разных цифр, тем больше похожая картинка\n",
        "         # Расстояние Хэмминга: шаги, необходимые для того, чтобы набор двоичных данных стал другим набором данных, который может измерять разницу между двумя изображениями. Чем меньше расстояние Хемминга, тем выше сходство. Расстояние Хэмминга равно 0, то есть две картинки абсолютно одинаковы\n",
        "    n = 0\n",
        "         # Если длина хеша отличается, возвращается -1, чтобы указать на ошибку\n",
        "    if len(hash1) != len(hash2):\n",
        "        return -1\n",
        "         # Обход решения\n",
        "    for i in range(len(hash1)):\n",
        "                 # Если они не равны, n считается +1, и n, наконец, сходство\n",
        "        if hash1[i] != hash2[i]:\n",
        "            n = n + 1\n",
        "    return n\n",
        "\n",
        "def getImageByUrl(url):\n",
        "         # Получить объект изображения на основе URL изображения\n",
        "    html = requests.get(url, verify=False)\n",
        "    image = Image.open(BytesIO(html.content))\n",
        "    return image\n",
        "\n",
        "def PILImageToCV():\n",
        "         # PIL Изображение конвертируется в формат OpenCV\n",
        "    path = \"/Users/waldenz/Documents/Work/doc/TestImages/t3.png\"\n",
        "    img = Image.open(path)\n",
        "    plt.subplot(121)\n",
        "    plt.imshow(img)\n",
        "    print(isinstance(img, np.ndarray))\n",
        "    img = cv2.cvtColor(np.asarray(img), cv2.COLOR_RGB2BGR)\n",
        "    print(isinstance(img, np.ndarray))\n",
        "    plt.subplot(122)\n",
        "    plt.imshow(img)\n",
        "    plt.show()\n",
        " \n",
        " \n",
        "def CVImageToPIL():\n",
        "         # OpenCV изображение в изображение PIL\n",
        "    path = \"/Users/waldenz/Documents/Work/doc/TestImages/t3.png\"\n",
        "    img = cv2.imread(path)\n",
        "    # cv2.imshow(\"OpenCV\",img)\n",
        "    plt.subplot(121)\n",
        "    plt.imshow(img)\n",
        " \n",
        "    img2 = Image.fromarray(cv2.cvtColor(img, cv2.COLOR_BGR2RGB))\n",
        "    plt.subplot(122)\n",
        "    plt.imshow(img2)\n",
        "    plt.show()\n",
        "\n",
        "def bytes_to_cvimage(filebytes):\n",
        "         # Конвертировать поток байтов изображения в изображение cv\n",
        "    image = Image.open(filebytes)\n",
        "    img = cv2.cvtColor(np.asarray(image), cv2.COLOR_RGB2BGR)\n",
        "    return img\n",
        " \n",
        "#@asyncio.coroutine\n",
        "def runAllImageSimilaryFun(para1, para2):\n",
        "         # Чем меньше значение трех алгоритмов среднего, разности и алгоритма перцептивного хеширования, тем больше сходство, значение одной и той же картинки равно 0\n",
        "         # Между алгоритмом трех гистограммы и одноканальной гистограммой 0-1, чем больше значение, тем больше оно похоже. Та же картинка 1\n",
        " \n",
        "    # t1,t2   14;19;10;  0.70;0.75\n",
        "    # t1,t3   39 33 18   0.58 0.49\n",
        "         # s1, s2 7 23 11 0,83 0,86 Очень похожие картинки\n",
        "    # c1,c2  11 29 17    0.30 0.31\n",
        " \n",
        "    if para1.startswith(\"http\"):\n",
        "        # Скачать картинку по ссылке и конвертировать в формат opencv\n",
        "        img1 = getImageByUrl(para1)\n",
        "        img1 = cv2.cvtColor(np.asarray(img1), cv2.COLOR_RGB2BGR)\n",
        " \n",
        "        img2 = getImageByUrl(para2)\n",
        "        img2 = cv2.cvtColor(np.asarray(img2), cv2.COLOR_RGB2BGR)\n",
        "    else:\n",
        "        # Читайте физический путь напрямую через метод imread\n",
        "        img1 = cv2.imread(para1)\n",
        "        img2 = cv2.imread(para2)\n",
        " \n",
        "    hash1 = aHash(img1)\n",
        "    hash2 = aHash(img2)\n",
        "    n1 = cmpHash(hash1, hash2)\n",
        "    #print ('среднее сходство алгоритма хеширования aHash:', n1)\n",
        " \n",
        "    hash1 = dHash(img1)\n",
        "    hash2 = dHash(img2)\n",
        "    n2 = cmpHash(hash1, hash2)\n",
        "    #print ('Различие хеш-алгоритма сходства dHash:', n2)\n",
        " \n",
        "    hash1 = pHash(img1)\n",
        "    hash2 = pHash(img2)\n",
        "    n3 = cmpHash(hash1, hash2)\n",
        "    #print ('Воспринятый алгоритм хэширования сходства pHash:', n3)\n",
        " \n",
        "    n4 = classify_hist_with_split(img1, img2)\n",
        "    #print ('Схожесть алгоритма трех гистограмм:', n4)\n",
        " \n",
        "    n5 = calculate(img1, img2)\n",
        "    #print(\"дноканальная гистограмма\", n5)\n",
        "    #print(  is float)\n",
        "    if not type(n4)  is float:\n",
        "        \n",
        "        #print(\"%d %d %d %.2f %.2f \" % (n1, n2, n3, round(n4[0], 2), n5[0]))\n",
        "        return {'img1':para1,\n",
        "                'img2':para2,\n",
        "                'res':[1-float(n1/64), 1 - float(n2/64), 1-float(n3/64), round(n4[0], 2), n5[0]]}\n",
        "    else:\n",
        "        return {'img1':para1,\n",
        "                'img2':para2,\n",
        "                'res':[1-float(n1/64), 1 - float(n2/64), 1-float(n3/64), round(n4, 2), n5]}\n",
        "    # plt.subplot(121)\n",
        "    # plt.imshow(Image.fromarray(cv2.cvtColor(img1, cv2.COLOR_BGR2RGB)))\n",
        "    # plt.subplot(122)\n",
        "    # plt.imshow(Image.fromarray(cv2.cvtColor(img2, cv2.COLOR_BGR2RGB)))\n",
        "    # plt.show()\n",
        " \n"
      ]
    },
    {
      "cell_type": "code",
      "execution_count": 5,
      "metadata": {
        "id": "DIA2vDKvSSr0"
      },
      "outputs": [],
      "source": []
    },
    {
      "cell_type": "code",
      "execution_count": null,
      "metadata": {
        "id": "MiVu7FIRPLn6"
      },
      "outputs": [],
      "source": [
        "df_in = pd.read_csv('all_3.csv',index_col = 0)\n",
        "# print(len(df_in))\n",
        "# df_in = df_in.drop_duplicates(subset = ['page_url','img_url'])\n",
        "df_in"
      ]
    },
    {
      "cell_type": "code",
      "source": [
        "df_in = df_in[df_in.district == \"Автозаводский\"]"
      ],
      "metadata": {
        "id": "YXWw_I1sW9xH"
      },
      "execution_count": null,
      "outputs": []
    },
    {
      "cell_type": "code",
      "source": [
        "df_in"
      ],
      "metadata": {
        "id": "VRBb0Cjwdxue"
      },
      "execution_count": null,
      "outputs": []
    },
    {
      "cell_type": "code",
      "execution_count": null,
      "metadata": {
        "scrolled": true,
        "id": "gUli-DECSSr3"
      },
      "outputs": [],
      "source": [
        "img_columns = [i for i in df_in.columns if i.startswith('img_url')]\n",
        "img_columns"
      ]
    },
    {
      "cell_type": "code",
      "execution_count": null,
      "metadata": {
        "id": "bWPQRIg3SSr5"
      },
      "outputs": [],
      "source": [
        "list_imgs = [[y for y in x if pd.notna(y)] for x in df_in[img_columns].values.tolist()]"
      ]
    },
    {
      "cell_type": "code",
      "execution_count": null,
      "metadata": {
        "id": "WlhnRCL8SSr5"
      },
      "outputs": [],
      "source": [
        "list_imgs"
      ]
    },
    {
      "cell_type": "code",
      "execution_count": null,
      "metadata": {
        "id": "6P4RGVFqQSrf"
      },
      "outputs": [],
      "source": [
        "df_out = pd.DataFrame()\n"
      ]
    },
    {
      "cell_type": "code",
      "execution_count": null,
      "metadata": {
        "id": "Q0jCqB3fSSr7"
      },
      "outputs": [],
      "source": [
        "%%time\n",
        "list_pair = list(combinations(list_imgs[:], 2))"
      ]
    },
    {
      "cell_type": "code",
      "execution_count": null,
      "metadata": {
        "id": "2AKUaNHmSSr9"
      },
      "outputs": [],
      "source": [
        "len(list_pair)"
      ]
    },
    {
      "cell_type": "code",
      "execution_count": null,
      "metadata": {
        "id": "O0IkXqtQSSr-"
      },
      "outputs": [],
      "source": [
        "print(1)\n",
        "print(1)"
      ]
    },
    {
      "cell_type": "code",
      "execution_count": null,
      "metadata": {
        "scrolled": false,
        "id": "eu8qszuqSSr_"
      },
      "outputs": [],
      "source": [
        "# futures = []\n",
        "# for pair in tqdm(list_pair[:]):\n",
        "#     l1 = (pair[0])\n",
        "#     l2 = (pair[1])\n",
        "#     comb_img = ([ t for t in product(l1, l2)])\n",
        "#     for pair_img in comb_img:\n",
        "#         p1, p2 = pair_img\n",
        "#         futures.append(runAllImageSimilaryFun(p1,p2))"
      ]
    },
    {
      "cell_type": "code",
      "execution_count": null,
      "metadata": {
        "id": "r50Acmi4SSsA"
      },
      "outputs": [],
      "source": [
        "# %%time\n",
        "# nest_asyncio.apply()\n",
        "# loop = asyncio.get_event_loop()\n",
        "# out, _ = loop.run_until_complete(asyncio.wait(futures))\n"
      ]
    },
    {
      "cell_type": "code",
      "execution_count": null,
      "metadata": {
        "id": "1-JGnEJkSSsA"
      },
      "outputs": [],
      "source": [
        "# out"
      ]
    },
    {
      "cell_type": "code",
      "execution_count": null,
      "metadata": {
        "scrolled": true,
        "id": "1BZUACOJSSsB"
      },
      "outputs": [],
      "source": [
        "%%time\n",
        "result = {}\n",
        "\n",
        "for pair in tqdm(list_pair[:]):\n",
        "    #print(pair[0])\n",
        "    #l1 = eval(pair[0])\n",
        "    #l2 = eval(pair[1])\n",
        "    l1 = (pair[0])\n",
        "    l2 = (pair[1])\n",
        "    comb_img = ([ t for t in product(l1, l2)])\n",
        "    for pair_img in comb_img:\n",
        "        p1, p2 = pair_img\n",
        "        result_scr = runAllImageSimilaryFun(p1,p2)\n",
        "        if not p1 in result.keys():\n",
        "            #print(p1)\n",
        "            result[p1] = {}\n",
        "        result[p1][p2] = result_scr"
      ]
    },
    {
      "cell_type": "code",
      "execution_count": null,
      "metadata": {
        "id": "uUNQYQki41PG"
      },
      "outputs": [],
      "source": [
        "%%time\n",
        "result = {}\n",
        "list_main = df_in.main_url.unique()\n",
        "count = 1\n",
        "for main in tqdm(list_pair[:-1]):\n",
        "    for sec_main in tqdm(list_main[count:]):\n",
        "        list_img_1 = df_in[df_in.main_url == main].img_url.to_list()\n",
        "        list_img_2 = df_in[df_in.main_url == sec_main].img_url.to_list()\n",
        "        comb_img = ['~'.join(t) for t in product(list_img_1, list_img_2)]\n",
        "        list_pair  = list_pair + comb_img\n",
        "#         for pair in (comb_img):\n",
        "#             p1, p2 = pair.split('~')\n",
        "#             result_scr = runAllImageSimilaryFun(p1,p2)\n",
        "#             if not p1 in result.keys():\n",
        "#                 #print(p1)\n",
        "#                 result[p1] = {}\n",
        "#             result[p1][p2] = result_scr\n",
        "        count += 1\n",
        "    #df_res = pd.DataFrame(result)\n",
        "   # df_res.to_csv('res.csv')"
      ]
    },
    {
      "cell_type": "code",
      "execution_count": null,
      "metadata": {
        "id": "VOWtY4nFSSsE"
      },
      "outputs": [],
      "source": [
        "%%time\n",
        "result = {}\n",
        "list_main = df_in.main_url.unique()\n",
        "count = 1\n",
        "for main in tqdm(list_main[:-1]):\n",
        "    for sec_main in tqdm(list_main[count:]):\n",
        "        list_img_1 = df_in[df_in.main_url == main].img_url.to_list()\n",
        "        list_img_2 = df_in[df_in.main_url == sec_main].img_url.to_list()\n",
        "        comb_img = ['~'.join(t) for t in product(list_img_1, list_img_2)]\n",
        "        for pair in (comb_img):\n",
        "            p1, p2 = pair.split('~')\n",
        "            result_scr = runAllImageSimilaryFun(p1,p2)\n",
        "            if not p1 in result.keys():\n",
        "                #print(p1)\n",
        "                result[p1] = {}\n",
        "            result[p1][p2] = result_scr\n",
        "        count += 1\n",
        "    df_res = pd.DataFrame(result)\n",
        "    df_res.to_csv('res.csv')"
      ]
    },
    {
      "cell_type": "code",
      "execution_count": null,
      "metadata": {
        "id": "IFGHdzqiMTDu"
      },
      "outputs": [],
      "source": [
        "df_res = pd.DataFrame(result)\n",
        "df_res.to_csv('res.csv')"
      ]
    },
    {
      "cell_type": "code",
      "execution_count": null,
      "metadata": {
        "id": "WCtRFsT4Ewjd"
      },
      "outputs": [],
      "source": [
        "df_res = pd.read_csv('res.csv',index_col = 0)"
      ]
    },
    {
      "cell_type": "code",
      "execution_count": null,
      "metadata": {
        "id": "uPOO4yCVEaYm"
      },
      "outputs": [],
      "source": [
        "def find_max_res(x):\n",
        "    text = x.replace('[',\"\").replace(']',\"\")\n",
        "    arr = text.split(', ')\n",
        "    return arr[-2]"
      ]
    },
    {
      "cell_type": "code",
      "execution_count": null,
      "metadata": {
        "id": "aqEf5n35EVOZ"
      },
      "outputs": [],
      "source": [
        "df_res.applymap(find_max_res)"
      ]
    },
    {
      "cell_type": "code",
      "execution_count": null,
      "metadata": {
        "id": "Tp60HEMpDBuy"
      },
      "outputs": [],
      "source": [
        "p1, p2 = '36-1.jpg','36-2.jpg'\n",
        "runAllImageSimilaryFun(p1,p2)"
      ]
    }
  ],
  "metadata": {
    "colab": {
      "provenance": []
    },
    "kernelspec": {
      "display_name": "Python 3 (ipykernel)",
      "language": "python",
      "name": "python3"
    },
    "language_info": {
      "codemirror_mode": {
        "name": "ipython",
        "version": 3
      },
      "file_extension": ".py",
      "mimetype": "text/x-python",
      "name": "python",
      "nbconvert_exporter": "python",
      "pygments_lexer": "ipython3",
      "version": "3.9.7"
    }
  },
  "nbformat": 4,
  "nbformat_minor": 0
}